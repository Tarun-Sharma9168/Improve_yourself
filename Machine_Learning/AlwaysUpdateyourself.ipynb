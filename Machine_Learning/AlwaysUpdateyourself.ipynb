{
 "cells": [
  {
   "cell_type": "markdown",
   "metadata": {},
   "source": [
    "# All About I learned !!!!!"
   ]
  },
  {
   "cell_type": "markdown",
   "metadata": {},
   "source": [
    "First day Of Learning...."
   ]
  },
  {
   "cell_type": "code",
   "execution_count": 4,
   "metadata": {},
   "outputs": [
    {
     "name": "stdout",
     "output_type": "stream",
     "text": [
      "[-1.   -0.98 -0.96 -0.94 -0.92 -0.9  -0.88 -0.86 -0.84 -0.82 -0.8  -0.78\n",
      " -0.76 -0.74 -0.72 -0.7  -0.68 -0.66 -0.64 -0.62 -0.6  -0.58 -0.56 -0.54\n",
      " -0.52 -0.5  -0.48 -0.46 -0.44 -0.42 -0.4  -0.38 -0.36 -0.34 -0.32 -0.3\n",
      " -0.28 -0.26 -0.24 -0.22 -0.2  -0.18 -0.16 -0.14 -0.12 -0.1  -0.08 -0.06\n",
      " -0.04 -0.02  0.    0.02  0.04  0.06  0.08  0.1   0.12  0.14  0.16  0.18\n",
      "  0.2   0.22  0.24  0.26  0.28  0.3   0.32  0.34  0.36  0.38  0.4   0.42\n",
      "  0.44  0.46  0.48  0.5   0.52  0.54  0.56  0.58  0.6   0.62  0.64  0.66\n",
      "  0.68  0.7   0.72  0.74  0.76  0.78  0.8   0.82  0.84  0.86  0.88  0.9\n",
      "  0.92  0.94  0.96  0.98  1.  ]\n",
      "101\n"
     ]
    }
   ],
   "source": [
    "#It is generaring the 101 points between a certain a range\n",
    "import numpy as np\n",
    "trx=np.linspace(-1,1,101)\n",
    "print(trx)\n",
    "print(len(trx))"
   ]
  },
  {
   "cell_type": "code",
   "execution_count": null,
   "metadata": {},
   "outputs": [],
   "source": [
    "'''\n",
    "from keras.models import Sequential \n",
    "from keras.layers import Dense\n",
    "import matplotlib.pyplot as plt\n",
    "'''"
   ]
  },
  {
   "cell_type": "code",
   "execution_count": 5,
   "metadata": {},
   "outputs": [
    {
     "name": "stdout",
     "output_type": "stream",
     "text": [
      "-1.0 -0.98 -0.96 -0.94 -0.92 -0.9 -0.88 -0.86 -0.84 -0.8200000000000001 -0.8 -0.78 -0.76 -0.74 -0.72 -0.7 -0.6799999999999999 -0.6599999999999999 -0.64 -0.62 -0.6 -0.5800000000000001 -0.56 -0.54 -0.52 -0.5 -0.48 -0.45999999999999996 -0.43999999999999995 -0.42000000000000004 -0.4 -0.38 -0.36 -0.33999999999999997 -0.31999999999999995 -0.29999999999999993 -0.28 -0.26 -0.24 -0.21999999999999997 -0.19999999999999996 -0.17999999999999994 -0.16000000000000003 -0.14 -0.12 -0.09999999999999998 -0.07999999999999996 -0.05999999999999994 -0.040000000000000036 -0.020000000000000018 0.0 0.020000000000000018 0.040000000000000036 0.06000000000000005 0.08000000000000007 0.10000000000000009 0.1200000000000001 0.14000000000000012 0.15999999999999992 0.17999999999999994 0.19999999999999996 0.21999999999999997 0.24 0.26 0.28 0.30000000000000004 0.32000000000000006 0.3400000000000001 0.3600000000000001 0.3800000000000001 0.40000000000000013 0.41999999999999993 0.43999999999999995 0.45999999999999996 0.48 0.5 0.52 0.54 0.56 0.5800000000000001 0.6000000000000001 0.6200000000000001 0.6400000000000001 0.6600000000000001 0.6799999999999999 0.7 0.72 0.74 0.76 0.78 0.8 0.8200000000000001 0.8400000000000001 0.8600000000000001 0.8800000000000001 0.9000000000000001 0.9199999999999999 0.94 0.96 0.98 1.0\n"
     ]
    }
   ],
   "source": [
    "#Expanding and print the original value using this very nice first time seeing \n",
    "#that is pevious one is round off but this is original value....\n",
    "print(*trx)"
   ]
  },
  {
   "cell_type": "markdown",
   "metadata": {},
   "source": [
    "second new thing today"
   ]
  },
  {
   "cell_type": "code",
   "execution_count": 9,
   "metadata": {},
   "outputs": [
    {
     "data": {
      "text/plain": [
       "0.0062592845125607945"
      ]
     },
     "execution_count": 9,
     "metadata": {},
     "output_type": "execute_result"
    }
   ],
   "source": [
    "#randn means if you want to fill the values by standard normal distribution that we generally assume the data to be\n",
    "#when we take random values\n",
    "pp=np.random.randn(*trx.shape)\n",
    "\n",
    "\n",
    "#if we check the mean if approx 0\n",
    "pp.mean()"
   ]
  },
  {
   "cell_type": "code",
   "execution_count": 10,
   "metadata": {},
   "outputs": [
    {
     "data": {
      "text/plain": [
       "0.9185360448923392"
      ]
     },
     "execution_count": 10,
     "metadata": {},
     "output_type": "execute_result"
    }
   ],
   "source": [
    "#and if we talk about the standard deviation it is 1\n",
    "pp.std()"
   ]
  },
  {
   "cell_type": "markdown",
   "metadata": {},
   "source": [
    "Some Basic prepreprocessing which is always useful\n",
    "which contains the reshaping ,converting the type and also the normalization of the input\n",
    "and the conversion of the labels"
   ]
  },
  {
   "cell_type": "code",
   "execution_count": null,
   "metadata": {},
   "outputs": [],
   "source": [
    "'''\n",
    "# Load MNIST dataset\n",
    "\n",
    "#Loading of the predefined datasets\n",
    "(X_train, y_train), (X_test, y_test) = mnist.load_data()\n",
    "\n",
    "print(X_train.shape,\" \",y_train.shape)\n",
    "print(X_test.shape,\" \",y_test.shape)\n",
    "X_train = X_train.reshape(60000, 784)#make it into 2 dimesnional\n",
    "\n",
    "X_test = X_test.reshape(10000, 784)\n",
    "\n",
    "X_train = X_train.astype('float32')#images always be in float32 using astype \n",
    "\n",
    "X_test = X_test.astype('float32')\n",
    "\n",
    "#normalizing the data\n",
    "X_train /= 255\n",
    "X_test /= 255\n",
    "\n",
    "#np_utils to convert it into categorical_values using to_categorical\n",
    "Y_Train = np_utils.to_categorical(y_train, nb_classes)\n",
    "Y_Test = np_utils.to_categorical(y_test, nb_classes)\n",
    "'''"
   ]
  },
  {
   "cell_type": "markdown",
   "metadata": {},
   "source": [
    "Some tips to compile and then compile the model"
   ]
  },
  {
   "cell_type": "code",
   "execution_count": null,
   "metadata": {},
   "outputs": [],
   "source": [
    "'''\n",
    "# Logistic regression model\n",
    "model = Sequential()\n",
    "#you know the output dim no need to tell input shape \n",
    "\n",
    "\n",
    "model.add(Dense(output_dim=10, input_shape=(784,), init='normal', activation='softmax'))\n",
    "#compiling with the sgd as an optimizer and the learning rate small using loss function as categorical crossentropy\n",
    "\n",
    "model.compile(optimizer=SGD(lr=0.05), loss='categorical_crossentropy', metrics=['accuracy'])\n",
    "\n",
    "model.summary()\n",
    "\n",
    "'''"
   ]
  },
  {
   "cell_type": "markdown",
   "metadata": {},
   "source": [
    "Evaluation of the model"
   ]
  },
  {
   "cell_type": "code",
   "execution_count": 11,
   "metadata": {},
   "outputs": [
    {
     "data": {
      "text/plain": [
       "\"\\n# Logistic regression model\\nmodel = Sequential()\\n#you know the output dim no need to tell input shape \\nmodel.add(Dense(output_dim=10, input_shape=(784,), init='normal', activation='softmax'))\\n#compiling with the sgd as an optimizer and the learning rate small using loss function as categorical crossentropy\\nmodel.compile(optimizer=SGD(lr=0.05), loss='categorical_crossentropy', metrics=['accuracy'])\\n\\nmodel.summary()\\n\""
      ]
     },
     "execution_count": 11,
     "metadata": {},
     "output_type": "execute_result"
    }
   ],
   "source": [
    "'''\n",
    "# Logistic regression model\n",
    "model = Sequential()\n",
    "#you know the output dim no need to tell input shape \n",
    "model.add(Dense(output_dim=10, input_shape=(784,), init='normal', activation='softmax'))\n",
    "#compiling with the sgd as an optimizer and the learning rate small using loss function as categorical crossentropy\n",
    "model.compile(optimizer=SGD(lr=0.05), loss='categorical_crossentropy', metrics=['accuracy'])\n",
    "\n",
    "model.summary()\n",
    "'''"
   ]
  },
  {
   "cell_type": "code",
   "execution_count": null,
   "metadata": {},
   "outputs": [],
   "source": []
  }
 ],
 "metadata": {
  "kernelspec": {
   "display_name": "Python 3",
   "language": "python",
   "name": "python3"
  },
  "language_info": {
   "codemirror_mode": {
    "name": "ipython",
    "version": 3
   },
   "file_extension": ".py",
   "mimetype": "text/x-python",
   "name": "python",
   "nbconvert_exporter": "python",
   "pygments_lexer": "ipython3",
   "version": "3.7.4"
  }
 },
 "nbformat": 4,
 "nbformat_minor": 2
}
